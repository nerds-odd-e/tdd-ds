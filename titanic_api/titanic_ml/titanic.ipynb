{
 "cells": [
  {
   "cell_type": "code",
   "execution_count": null,
   "id": "c52b8802-2f4e-4558-abdf-feb432524c43",
   "metadata": {},
   "outputs": [],
   "source": [
    "import pandas as pd\n",
    "from io import StringIO"
   ]
  },
  {
   "cell_type": "code",
   "execution_count": null,
   "id": "d0100fcc-c03e-4962-a822-c4ae822866be",
   "metadata": {},
   "outputs": [],
   "source": [
    "def read_data_from_zip(file='titanic.zip', dataset='train'):\n",
    "    from zipfile import ZipFile\n",
    "    with ZipFile(file, 'r') as zip:\n",
    "        train = zip.read(dataset+'.csv').decode('utf-8')\n",
    "    df_train = pd.read_csv(StringIO(train))\n",
    "    return df_train"
   ]
  },
  {
   "cell_type": "code",
   "execution_count": null,
   "id": "c1a5917a-073f-40c8-9853-d9540614e237",
   "metadata": {},
   "outputs": [],
   "source": [
    "df_train = read_data_from_zip()\n",
    "\n",
    "assert len(df_train) == 891\n",
    "assert all(col in df_train.columns \n",
    "          for col in ['PassengerId', 'Survived', 'Pclass', 'Name', 'Sex', 'Age', 'SibSp', 'Parch', 'Ticket', 'Fare', 'Cabin', 'Embarked'])\n",
    "\n",
    "fem = df_train.loc[df_train.Sex == 'female']['Survived']\n",
    "survival_rate = sum(fem)/len(fem)\n",
    "assert abs(survival_rate - 0.74) < 0.03"
   ]
  },
  {
   "cell_type": "code",
   "execution_count": null,
   "id": "6382c9fc-0e2a-4fac-9953-32cdce689976",
   "metadata": {},
   "outputs": [],
   "source": [
    "def preprocess_data(dataframe, features=None):\n",
    "    from sklearn.preprocessing import LabelEncoder\n",
    "    if features is None:\n",
    "        features = list(dataframe.columns)\n",
    "    df = dataframe[features]\n",
    "    df = df.loc[df['Age'].notnull()]\n",
    "    label_enc = LabelEncoder()\n",
    "    df['Sex'] = label_enc.fit_transform(df['Sex'])\n",
    "    df['Embarked'] = label_enc.fit_transform(df['Embarked'])\n",
    "    return df\n",
    "    "
   ]
  },
  {
   "cell_type": "code",
   "execution_count": null,
   "id": "0462008e-108c-49d0-ac68-7fd61c272929",
   "metadata": {},
   "outputs": [],
   "source": [
    "features = ['Sex', 'Age', 'SibSp', 'Parch', 'Pclass','Fare', 'Embarked']\n",
    "df_train_clean = preprocess_data(df_train, features=features+['Survived'])\n",
    "assert len(df_train_clean) == 714"
   ]
  },
  {
   "cell_type": "code",
   "execution_count": null,
   "id": "0934d57a-de2b-4f72-a7da-f2c903423e78",
   "metadata": {},
   "outputs": [],
   "source": [
    "def train_model(data, features):\n",
    "    from sklearn.model_selection import train_test_split\n",
    "    from sklearn.ensemble import RandomForestClassifier\n",
    "    from sklearn.metrics import accuracy_score\n",
    "    X = data[features]\n",
    "    Y = data['Survived']\n",
    "    X_train, X_test, Y_train, Y_test = train_test_split(X, Y, test_size=0.25, random_state=42)\n",
    "    model = RandomForestClassifier(n_estimators=100, random_state=42)\n",
    "    model.fit(X_train, Y_train)\n",
    "    Y_pred = model.predict(X_test)\n",
    "    accuracy = accuracy_score(Y_test, Y_pred)\n",
    "    return model, accuracy\n",
    "    "
   ]
  },
  {
   "cell_type": "code",
   "execution_count": null,
   "id": "1aa1a4ce-6be1-43f8-bb2c-03dbe11624cb",
   "metadata": {},
   "outputs": [],
   "source": [
    "model, accuracy = train_model(df_train_clean, features)\n",
    "\n",
    "assert abs(accuracy - 0.78) < 0.03"
   ]
  },
  {
   "cell_type": "code",
   "execution_count": null,
   "id": "406201b1-270b-4c54-8b0c-760f0c410d1d",
   "metadata": {},
   "outputs": [],
   "source": [
    "\n",
    "passenger = df_train_clean[features].loc[0]\n",
    "survival = model.predict([passenger])\n",
    "expected = df_train.loc[0]['Survived']\n",
    "assert expected == survival[0]"
   ]
  },
  {
   "cell_type": "code",
   "execution_count": null,
   "id": "e357d6fd-28ad-4947-8259-66fa382912c0",
   "metadata": {},
   "outputs": [],
   "source": []
  }
 ],
 "metadata": {
  "kernelspec": {
   "display_name": "Python 3 (ipykernel)",
   "language": "python",
   "name": "python3"
  },
  "language_info": {
   "codemirror_mode": {
    "name": "ipython",
    "version": 3
   },
   "file_extension": ".py",
   "mimetype": "text/x-python",
   "name": "python",
   "nbconvert_exporter": "python",
   "pygments_lexer": "ipython3",
   "version": "3.12.2"
  }
 },
 "nbformat": 4,
 "nbformat_minor": 5
}
